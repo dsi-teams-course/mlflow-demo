{
 "cells": [
  {
   "cell_type": "markdown",
   "metadata": {},
   "source": [
    "# MLFlow in Practice"
   ]
  },
  {
   "cell_type": "markdown",
   "metadata": {},
   "source": [
    "> In this notebook, we'll get started with MLFlow, learning how to create experiments, track our parameters and metrics, and eventually save and look at our model in the MLFlow user interface!"
   ]
  },
  {
   "cell_type": "markdown",
   "metadata": {},
   "source": [
    "### Installing and importing packages"
   ]
  },
  {
   "cell_type": "code",
   "execution_count": 1,
   "metadata": {},
   "outputs": [
    {
     "name": "stdout",
     "output_type": "stream",
     "text": [
      "Requirement already satisfied: mlflow in /Users/chaudhu/opt/anaconda3/lib/python3.8/site-packages (1.23.1)\n",
      "Requirement already satisfied: packaging in /Users/chaudhu/opt/anaconda3/lib/python3.8/site-packages (from mlflow) (21.3)\n",
      "Requirement already satisfied: sqlalchemy in /Users/chaudhu/opt/anaconda3/lib/python3.8/site-packages (from mlflow) (1.4.31)\n",
      "Requirement already satisfied: requests>=2.17.3 in /Users/chaudhu/opt/anaconda3/lib/python3.8/site-packages (from mlflow) (2.27.1)\n",
      "Requirement already satisfied: sqlparse>=0.3.1 in /Users/chaudhu/opt/anaconda3/lib/python3.8/site-packages (from mlflow) (0.4.2)\n",
      "Requirement already satisfied: numpy in /Users/chaudhu/opt/anaconda3/lib/python3.8/site-packages (from mlflow) (1.21.5)\n",
      "Requirement already satisfied: gitpython>=2.1.0 in /Users/chaudhu/opt/anaconda3/lib/python3.8/site-packages (from mlflow) (3.1.26)\n",
      "Requirement already satisfied: pytz in /Users/chaudhu/opt/anaconda3/lib/python3.8/site-packages (from mlflow) (2021.3)\n",
      "Requirement already satisfied: gunicorn in /Users/chaudhu/opt/anaconda3/lib/python3.8/site-packages (from mlflow) (20.1.0)\n",
      "Requirement already satisfied: pandas in /Users/chaudhu/opt/anaconda3/lib/python3.8/site-packages (from mlflow) (1.4.0)\n",
      "Requirement already satisfied: docker>=4.0.0 in /Users/chaudhu/opt/anaconda3/lib/python3.8/site-packages (from mlflow) (5.0.3)\n",
      "Requirement already satisfied: prometheus-flask-exporter in /Users/chaudhu/opt/anaconda3/lib/python3.8/site-packages (from mlflow) (0.18.7)\n",
      "Requirement already satisfied: querystring-parser in /Users/chaudhu/opt/anaconda3/lib/python3.8/site-packages (from mlflow) (1.2.4)\n",
      "Requirement already satisfied: importlib-metadata!=4.7.0,>=3.7.0 in /Users/chaudhu/opt/anaconda3/lib/python3.8/site-packages (from mlflow) (4.10.1)\n",
      "Requirement already satisfied: scipy in /Users/chaudhu/opt/anaconda3/lib/python3.8/site-packages (from mlflow) (1.8.0)\n",
      "Requirement already satisfied: Flask in /Users/chaudhu/opt/anaconda3/lib/python3.8/site-packages (from mlflow) (2.0.2)\n",
      "Requirement already satisfied: protobuf>=3.7.0 in /Users/chaudhu/opt/anaconda3/lib/python3.8/site-packages (from mlflow) (3.19.4)\n",
      "Requirement already satisfied: click>=7.0 in /Users/chaudhu/opt/anaconda3/lib/python3.8/site-packages (from mlflow) (8.0.3)\n",
      "Requirement already satisfied: databricks-cli>=0.8.7 in /Users/chaudhu/opt/anaconda3/lib/python3.8/site-packages (from mlflow) (0.16.4)\n",
      "Requirement already satisfied: cloudpickle in /Users/chaudhu/opt/anaconda3/lib/python3.8/site-packages (from mlflow) (2.0.0)\n",
      "Requirement already satisfied: alembic in /Users/chaudhu/opt/anaconda3/lib/python3.8/site-packages (from mlflow) (1.7.6)\n",
      "Requirement already satisfied: entrypoints in /Users/chaudhu/opt/anaconda3/lib/python3.8/site-packages (from mlflow) (0.3)\n",
      "Requirement already satisfied: pyyaml>=5.1 in /Users/chaudhu/opt/anaconda3/lib/python3.8/site-packages (from mlflow) (6.0)\n",
      "Requirement already satisfied: six>=1.10.0 in /Users/chaudhu/opt/anaconda3/lib/python3.8/site-packages (from databricks-cli>=0.8.7->mlflow) (1.16.0)\n",
      "Requirement already satisfied: tabulate>=0.7.7 in /Users/chaudhu/opt/anaconda3/lib/python3.8/site-packages (from databricks-cli>=0.8.7->mlflow) (0.8.9)\n",
      "Requirement already satisfied: websocket-client>=0.32.0 in /Users/chaudhu/opt/anaconda3/lib/python3.8/site-packages (from docker>=4.0.0->mlflow) (1.2.3)\n",
      "Requirement already satisfied: gitdb<5,>=4.0.1 in /Users/chaudhu/opt/anaconda3/lib/python3.8/site-packages (from gitpython>=2.1.0->mlflow) (4.0.9)\n",
      "Requirement already satisfied: zipp>=0.5 in /Users/chaudhu/opt/anaconda3/lib/python3.8/site-packages (from importlib-metadata!=4.7.0,>=3.7.0->mlflow) (3.7.0)\n",
      "Requirement already satisfied: idna<4,>=2.5 in /Users/chaudhu/opt/anaconda3/lib/python3.8/site-packages (from requests>=2.17.3->mlflow) (3.3)\n",
      "Requirement already satisfied: urllib3<1.27,>=1.21.1 in /Users/chaudhu/opt/anaconda3/lib/python3.8/site-packages (from requests>=2.17.3->mlflow) (1.26.8)\n",
      "Requirement already satisfied: certifi>=2017.4.17 in /Users/chaudhu/opt/anaconda3/lib/python3.8/site-packages (from requests>=2.17.3->mlflow) (2021.10.8)\n",
      "Requirement already satisfied: charset-normalizer~=2.0.0 in /Users/chaudhu/opt/anaconda3/lib/python3.8/site-packages (from requests>=2.17.3->mlflow) (2.0.11)\n",
      "Requirement already satisfied: importlib-resources in /Users/chaudhu/opt/anaconda3/lib/python3.8/site-packages (from alembic->mlflow) (5.4.0)\n",
      "Requirement already satisfied: Mako in /Users/chaudhu/opt/anaconda3/lib/python3.8/site-packages (from alembic->mlflow) (1.1.6)\n",
      "Requirement already satisfied: greenlet!=0.4.17 in /Users/chaudhu/opt/anaconda3/lib/python3.8/site-packages (from sqlalchemy->mlflow) (1.1.2)\n",
      "Requirement already satisfied: Werkzeug>=2.0 in /Users/chaudhu/opt/anaconda3/lib/python3.8/site-packages (from Flask->mlflow) (2.0.3)\n",
      "Requirement already satisfied: itsdangerous>=2.0 in /Users/chaudhu/opt/anaconda3/lib/python3.8/site-packages (from Flask->mlflow) (2.0.1)\n",
      "Requirement already satisfied: Jinja2>=3.0 in /Users/chaudhu/opt/anaconda3/lib/python3.8/site-packages (from Flask->mlflow) (3.0.3)\n",
      "Requirement already satisfied: setuptools>=3.0 in /Users/chaudhu/opt/anaconda3/lib/python3.8/site-packages (from gunicorn->mlflow) (60.8.1)\n",
      "Requirement already satisfied: pyparsing!=3.0.5,>=2.0.2 in /Users/chaudhu/opt/anaconda3/lib/python3.8/site-packages (from packaging->mlflow) (2.4.7)\n",
      "Requirement already satisfied: python-dateutil>=2.8.1 in /Users/chaudhu/opt/anaconda3/lib/python3.8/site-packages (from pandas->mlflow) (2.8.2)\n",
      "Requirement already satisfied: prometheus-client in /Users/chaudhu/opt/anaconda3/lib/python3.8/site-packages (from prometheus-flask-exporter->mlflow) (0.13.1)\n",
      "Requirement already satisfied: smmap<6,>=3.0.1 in /Users/chaudhu/opt/anaconda3/lib/python3.8/site-packages (from gitdb<5,>=4.0.1->gitpython>=2.1.0->mlflow) (5.0.0)\n",
      "Requirement already satisfied: MarkupSafe>=2.0 in /Users/chaudhu/opt/anaconda3/lib/python3.8/site-packages (from Jinja2>=3.0->Flask->mlflow) (2.0.1)\n"
     ]
    }
   ],
   "source": [
    "!pip install mlflow"
   ]
  },
  {
   "cell_type": "code",
   "execution_count": 2,
   "metadata": {},
   "outputs": [],
   "source": [
    "import os\n",
    "import warnings\n",
    "import sys\n",
    "\n",
    "import pandas as pd\n",
    "import numpy as np\n",
    "import matplotlib.pyplot as plt\n",
    "from sklearn.metrics import mean_squared_error, mean_absolute_error, r2_score\n",
    "from sklearn.model_selection import train_test_split\n",
    "from sklearn.linear_model import ElasticNet\n",
    "from urllib.parse import urlparse\n",
    "import mlflow\n",
    "import mlflow.sklearn\n",
    "\n",
    "import logging"
   ]
  },
  {
   "cell_type": "markdown",
   "metadata": {},
   "source": [
    "### Our first experiment!"
   ]
  },
  {
   "cell_type": "markdown",
   "metadata": {},
   "source": [
    "The first thing we need to do is create an experiment in MLFlow to store information about our models. We will want to do this for each new model we want to track so that MLFlow knows to treat them separately"
   ]
  },
  {
   "cell_type": "code",
   "execution_count": 3,
   "metadata": {},
   "outputs": [
    {
     "name": "stderr",
     "output_type": "stream",
     "text": [
      "2023/03/24 12:14:11 INFO mlflow.tracking.fluent: Experiment with name 'mlflow-workshop-1' does not exist. Creating a new experiment.\n"
     ]
    },
    {
     "data": {
      "text/plain": [
       "<Experiment: artifact_location='file:///Users/chaudhu/Documents/Vanderbilt/Work/mlflow-workshop/mlruns/1', experiment_id='1', lifecycle_stage='active', name='mlflow-workshop-1', tags={}>"
      ]
     },
     "execution_count": 3,
     "metadata": {},
     "output_type": "execute_result"
    }
   ],
   "source": [
    "mlflow.set_experiment('mlflow-workshop-1')"
   ]
  },
  {
   "cell_type": "markdown",
   "metadata": {},
   "source": [
    "Now we're ready to start tracking parameters and metrics! We'll start off with some simple values to get acclamated to how it works.\n",
    "\n",
    "We will also start the ML Flow UI with the command below. Open a new Terminal window and change directory to this directory. Then, paste the code. Click on the link generated to open the UI. This UI allows you to keep track of your experiments and results. "
   ]
  },
  {
   "cell_type": "code",
   "execution_count": 4,
   "metadata": {},
   "outputs": [],
   "source": [
    "# First, open a new terminal and change directory to where this repository is located. Then, run the following code:\n",
    "#!mlflow ui\n",
    "#Then open the generated link. (Likely looks like http://127.0.0.1:5000)"
   ]
  },
  {
   "cell_type": "code",
   "execution_count": 5,
   "metadata": {},
   "outputs": [],
   "source": [
    "with mlflow.start_run():\n",
    "    mlflow.log_param('parameter',3)\n",
    "    mlflow.log_param('string-parameter','string')\n",
    "    mlflow.log_metric('accuracy',1)"
   ]
  },
  {
   "cell_type": "markdown",
   "metadata": {},
   "source": [
    "### Getting some actual numbers involved"
   ]
  },
  {
   "cell_type": "markdown",
   "metadata": {},
   "source": [
    "Again, we'll want to create another experiment. In the UI, this will create a new tab for these runs so that we can look at them separately"
   ]
  },
  {
   "cell_type": "code",
   "execution_count": 6,
   "metadata": {},
   "outputs": [
    {
     "name": "stderr",
     "output_type": "stream",
     "text": [
      "2023/03/24 12:14:11 INFO mlflow.tracking.fluent: Experiment with name 'mlflow-workshop-2' does not exist. Creating a new experiment.\n"
     ]
    },
    {
     "data": {
      "text/plain": [
       "<Experiment: artifact_location='file:///Users/chaudhu/Documents/Vanderbilt/Work/mlflow-workshop/mlruns/2', experiment_id='2', lifecycle_stage='active', name='mlflow-workshop-2', tags={}>"
      ]
     },
     "execution_count": 6,
     "metadata": {},
     "output_type": "execute_result"
    }
   ],
   "source": [
    "mlflow.set_experiment('mlflow-workshop-2')"
   ]
  },
  {
   "cell_type": "markdown",
   "metadata": {},
   "source": [
    "Now let's generate some points. We're just going to create 100 points that are roughly in a line, keeping the line there to show what a model might produce if we asked it to learn these points."
   ]
  },
  {
   "cell_type": "code",
   "execution_count": 7,
   "metadata": {},
   "outputs": [
    {
     "data": {
      "image/png": "[encoded data removed]",
      "text/plain": [
       "<Figure size 432x288 with 1 Axes>"
      ]
     },
     "metadata": {
      "needs_background": "light"
     },
     "output_type": "display_data"
    }
   ],
   "source": [
    "def f(x):\n",
    "    return 3*x + 1\n",
    "N = 100\n",
    "x = np.linspace(-2,2,N)\n",
    "y = f(x) + np.random.randn(N)\n",
    "\n",
    "plt.plot(x,f(x),color = 'red')\n",
    "plt.scatter(x,y);"
   ]
  },
  {
   "cell_type": "markdown",
   "metadata": {},
   "source": [
    "These are our line parameters, slope and intercept. Currently, they are set to the line of best fit that we generated the data from, but we can change these because these are our parameters! Let's try that:"
   ]
  },
  {
   "cell_type": "code",
   "execution_count": 8,
   "metadata": {},
   "outputs": [],
   "source": [
    "slope = 3\n",
    "intercept = 1"
   ]
  },
  {
   "cell_type": "markdown",
   "metadata": {},
   "source": [
    "The code below will show the new line based on the parameters above. Feel free to change the parameters and re-run this cell to see what the lines look like!"
   ]
  },
  {
   "cell_type": "code",
   "execution_count": 9,
   "metadata": {},
   "outputs": [
    {
     "data": {
      "image/png": "[encoded data removed]",
      "text/plain": [
       "<Figure size 432x288 with 1 Axes>"
      ]
     },
     "metadata": {
      "needs_background": "light"
     },
     "output_type": "display_data"
    }
   ],
   "source": [
    "plt.plot(x,slope*x + intercept,color = 'green')\n",
    "plt.scatter(x,y);"
   ]
  },
  {
   "cell_type": "markdown",
   "metadata": {},
   "source": [
    "Now we need an evaluation metric. Here we will calculate the mean absolute error, which is just the average distance between each point and the green line. Re-run this cell whenever you change the input parameters and watch the error change in response"
   ]
  },
  {
   "cell_type": "code",
   "execution_count": 10,
   "metadata": {},
   "outputs": [
    {
     "name": "stdout",
     "output_type": "stream",
     "text": [
      "0.8252390090378664\n"
     ]
    }
   ],
   "source": [
    "error = mean_absolute_error(y,slope*x + intercept)\n",
    "print(error)"
   ]
  },
  {
   "cell_type": "markdown",
   "metadata": {},
   "source": [
    "Now we can have MLFlow track these exact parameters and save the error too! Running this will log our run under the current experiment. Changing the parameters and running it again will add THAT run as well, and then the MLFlow UI will allow us to compare runs, sort them by error if we want, and see exactly what paramaters went into each one"
   ]
  },
  {
   "cell_type": "code",
   "execution_count": 11,
   "metadata": {},
   "outputs": [],
   "source": [
    "with mlflow.start_run():\n",
    "    mlflow.log_param('slope',slope)\n",
    "    mlflow.log_param('intercept',intercept)\n",
    "    mlflow.log_metric('mean-sq-error',error)"
   ]
  },
  {
   "cell_type": "markdown",
   "metadata": {},
   "source": [
    "To log another set of parameters as another run, simply change the values of the slope and intercept as below. Refreshing the ML Flow UI will show the new logged results."
   ]
  },
  {
   "cell_type": "code",
   "execution_count": 12,
   "metadata": {},
   "outputs": [
    {
     "name": "stdout",
     "output_type": "stream",
     "text": [
      "1.2110119383503912\n"
     ]
    }
   ],
   "source": [
    "slope = 4\n",
    "intercept = 1\n",
    "\n",
    "error = mean_absolute_error(y,slope*x + intercept)\n",
    "print(error)\n",
    "\n",
    "with mlflow.start_run():\n",
    "    mlflow.log_param('slope',slope)\n",
    "    mlflow.log_param('intercept',intercept)\n",
    "    mlflow.log_metric('mean-sq-error',error)"
   ]
  },
  {
   "cell_type": "markdown",
   "metadata": {},
   "source": [
    "Now we have a good understanding of what MLFlow is actually doing, let's get to using it on a real model with some actual data"
   ]
  },
  {
   "cell_type": "markdown",
   "metadata": {},
   "source": [
    "### Modeling on real data"
   ]
  },
  {
   "cell_type": "markdown",
   "metadata": {},
   "source": [
    "Once again, it's important for us to create a new experiment to track this new model. We ALWAYS need to do this, or else our models will go to the same place!"
   ]
  },
  {
   "cell_type": "code",
   "execution_count": 13,
   "metadata": {},
   "outputs": [
    {
     "name": "stderr",
     "output_type": "stream",
     "text": [
      "2023/03/24 12:14:16 INFO mlflow.tracking.fluent: Experiment with name 'mlflow-workshop-3' does not exist. Creating a new experiment.\n"
     ]
    },
    {
     "data": {
      "text/plain": [
       "<Experiment: artifact_location='file:///Users/chaudhu/Documents/Vanderbilt/Work/mlflow-workshop/mlruns/3', experiment_id='3', lifecycle_stage='active', name='mlflow-workshop-3', tags={}>"
      ]
     },
     "execution_count": 13,
     "metadata": {},
     "output_type": "execute_result"
    }
   ],
   "source": [
    "mlflow.set_experiment('mlflow-workshop-3')"
   ]
  },
  {
   "cell_type": "markdown",
   "metadata": {},
   "source": [
    "The data we will be using here is Sci-Kit-Learn's wine-quality dataset, which contains some characteristics about various wines and then gives them a 'quality' score that we want to predict."
   ]
  },
  {
   "cell_type": "code",
   "execution_count": 14,
   "metadata": {},
   "outputs": [],
   "source": [
    "data = pd.read_csv('http://archive.ics.uci.edu/ml/machine-learning-databases/wine-quality/winequality-red.csv', sep=\";\")"
   ]
  },
  {
   "cell_type": "markdown",
   "metadata": {},
   "source": [
    "Let's look at that data:"
   ]
  },
  {
   "cell_type": "code",
   "execution_count": 15,
   "metadata": {},
   "outputs": [
    {
     "data": {
      "text/html": [
       "<div>\n",
       "<style scoped>\n",
       "    .dataframe tbody tr th:only-of-type {\n",
       "        vertical-align: middle;\n",
       "    }\n",
       "\n",
       "    .dataframe tbody tr th {\n",
       "        vertical-align: top;\n",
       "    }\n",
       "\n",
       "    .dataframe thead th {\n",
       "        text-align: right;\n",
       "    }\n",
       "</style>\n",
       "<table border=\"1\" class=\"dataframe\">\n",
       "  <thead>\n",
       "    <tr style=\"text-align: right;\">\n",
       "      <th></th>\n",
       "      <th>fixed acidity</th>\n",
       "      <th>volatile acidity</th>\n",
       "      <th>citric acid</th>\n",
       "      <th>residual sugar</th>\n",
       "      <th>chlorides</th>\n",
       "      <th>free sulfur dioxide</th>\n",
       "      <th>total sulfur dioxide</th>\n",
       "      <th>density</th>\n",
       "      <th>pH</th>\n",
       "      <th>sulphates</th>\n",
       "      <th>alcohol</th>\n",
       "      <th>quality</th>\n",
       "    </tr>\n",
       "  </thead>\n",
       "  <tbody>\n",
       "    <tr>\n",
       "      <th>0</th>\n",
       "      <td>7.4</td>\n",
       "      <td>0.70</td>\n",
       "      <td>0.00</td>\n",
       "      <td>1.9</td>\n",
       "      <td>0.076</td>\n",
       "      <td>11.0</td>\n",
       "      <td>34.0</td>\n",
       "      <td>0.9978</td>\n",
       "      <td>3.51</td>\n",
       "      <td>0.56</td>\n",
       "      <td>9.4</td>\n",
       "      <td>5</td>\n",
       "    </tr>\n",
       "    <tr>\n",
       "      <th>1</th>\n",
       "      <td>7.8</td>\n",
       "      <td>0.88</td>\n",
       "      <td>0.00</td>\n",
       "      <td>2.6</td>\n",
       "      <td>0.098</td>\n",
       "      <td>25.0</td>\n",
       "      <td>67.0</td>\n",
       "      <td>0.9968</td>\n",
       "      <td>3.20</td>\n",
       "      <td>0.68</td>\n",
       "      <td>9.8</td>\n",
       "      <td>5</td>\n",
       "    </tr>\n",
       "    <tr>\n",
       "      <th>2</th>\n",
       "      <td>7.8</td>\n",
       "      <td>0.76</td>\n",
       "      <td>0.04</td>\n",
       "      <td>2.3</td>\n",
       "      <td>0.092</td>\n",
       "      <td>15.0</td>\n",
       "      <td>54.0</td>\n",
       "      <td>0.9970</td>\n",
       "      <td>3.26</td>\n",
       "      <td>0.65</td>\n",
       "      <td>9.8</td>\n",
       "      <td>5</td>\n",
       "    </tr>\n",
       "    <tr>\n",
       "      <th>3</th>\n",
       "      <td>11.2</td>\n",
       "      <td>0.28</td>\n",
       "      <td>0.56</td>\n",
       "      <td>1.9</td>\n",
       "      <td>0.075</td>\n",
       "      <td>17.0</td>\n",
       "      <td>60.0</td>\n",
       "      <td>0.9980</td>\n",
       "      <td>3.16</td>\n",
       "      <td>0.58</td>\n",
       "      <td>9.8</td>\n",
       "      <td>6</td>\n",
       "    </tr>\n",
       "    <tr>\n",
       "      <th>4</th>\n",
       "      <td>7.4</td>\n",
       "      <td>0.70</td>\n",
       "      <td>0.00</td>\n",
       "      <td>1.9</td>\n",
       "      <td>0.076</td>\n",
       "      <td>11.0</td>\n",
       "      <td>34.0</td>\n",
       "      <td>0.9978</td>\n",
       "      <td>3.51</td>\n",
       "      <td>0.56</td>\n",
       "      <td>9.4</td>\n",
       "      <td>5</td>\n",
       "    </tr>\n",
       "  </tbody>\n",
       "</table>\n",
       "</div>"
      ],
      "text/plain": [
       "   fixed acidity  volatile acidity  citric acid  residual sugar  chlorides  \\\n",
       "0            7.4              0.70         0.00             1.9      0.076   \n",
       "1            7.8              0.88         0.00             2.6      0.098   \n",
       "2            7.8              0.76         0.04             2.3      0.092   \n",
       "3           11.2              0.28         0.56             1.9      0.075   \n",
       "4            7.4              0.70         0.00             1.9      0.076   \n",
       "\n",
       "   free sulfur dioxide  total sulfur dioxide  density    pH  sulphates  \\\n",
       "0                 11.0                  34.0   0.9978  3.51       0.56   \n",
       "1                 25.0                  67.0   0.9968  3.20       0.68   \n",
       "2                 15.0                  54.0   0.9970  3.26       0.65   \n",
       "3                 17.0                  60.0   0.9980  3.16       0.58   \n",
       "4                 11.0                  34.0   0.9978  3.51       0.56   \n",
       "\n",
       "   alcohol  quality  \n",
       "0      9.4        5  \n",
       "1      9.8        5  \n",
       "2      9.8        5  \n",
       "3      9.8        6  \n",
       "4      9.4        5  "
      ]
     },
     "execution_count": 15,
     "metadata": {},
     "output_type": "execute_result"
    }
   ],
   "source": [
    "data.head()"
   ]
  },
  {
   "cell_type": "markdown",
   "metadata": {},
   "source": [
    "Now let's get into some actual modeling. First, we need to split the data into training and test sets and make sure to separate the target column that we want to predict. That is done with the code below:"
   ]
  },
  {
   "cell_type": "code",
   "execution_count": 16,
   "metadata": {},
   "outputs": [],
   "source": [
    "# Split the data into training and test sets\n",
    "train, test = train_test_split(data)\n",
    "\n",
    "# The target column is \"quality\"\n",
    "train_x = train.drop([\"quality\"], axis=1)\n",
    "test_x = test.drop([\"quality\"], axis=1)\n",
    "train_y = train[[\"quality\"]]\n",
    "test_y = test[[\"quality\"]]"
   ]
  },
  {
   "cell_type": "markdown",
   "metadata": {},
   "source": [
    "The model we will use for this is an ElasticNet, which has two parameter we can adjust, alpha and l1_ratio"
   ]
  },
  {
   "cell_type": "code",
   "execution_count": 17,
   "metadata": {},
   "outputs": [],
   "source": [
    "#Model Parameters\n",
    "alpha = 0.8\n",
    "l1_ratio = 0.5"
   ]
  },
  {
   "cell_type": "markdown",
   "metadata": {},
   "source": [
    "Let's train the model and get some "
   ]
  },
  {
   "cell_type": "code",
   "execution_count": 18,
   "metadata": {},
   "outputs": [],
   "source": [
    "#Train Model\n",
    "lr = ElasticNet(alpha=alpha, l1_ratio=l1_ratio, random_state=42)\n",
    "lr.fit(train_x, train_y)\n",
    "\n",
    "#Get Predictions\n",
    "predicted_qualities = lr.predict(test_x)"
   ]
  },
  {
   "cell_type": "markdown",
   "metadata": {},
   "source": [
    "It's as easy as that! Now let's see how we did. The metrics we will be looking at here are mean absolute error just like before, as well as root mean square error and r-squared"
   ]
  },
  {
   "cell_type": "code",
   "execution_count": 19,
   "metadata": {},
   "outputs": [
    {
     "name": "stdout",
     "output_type": "stream",
     "text": [
      "Elasticnet model (alpha=0.800000, l1_ratio=0.500000):\n",
      "  RMSE: 0.8041186444902373\n",
      "  MAE: 0.659759372301328\n",
      "  R2: 0.032378837188052345\n"
     ]
    }
   ],
   "source": [
    "rmse = np.sqrt(mean_squared_error(test_y, predicted_qualities))\n",
    "mae = mean_absolute_error(test_y, predicted_qualities)\n",
    "r2 = r2_score(test_y, predicted_qualities)\n",
    "\n",
    "print(\"Elasticnet model (alpha=%f, l1_ratio=%f):\" % (alpha, l1_ratio))\n",
    "print(\"  RMSE: %s\" % rmse)\n",
    "print(\"  MAE: %s\" % mae)\n",
    "print(\"  R2: %s\" % r2)"
   ]
  },
  {
   "cell_type": "markdown",
   "metadata": {},
   "source": [
    "Now let's do all of that as an mlflow run and watch it appear in the UI!\n",
    "We'll also add one final step for mlflow to log the model itself for us to be able to get later as well."
   ]
  },
  {
   "cell_type": "code",
   "execution_count": 20,
   "metadata": {},
   "outputs": [
    {
     "name": "stdout",
     "output_type": "stream",
     "text": [
      "Elasticnet model (alpha=0.800000, l1_ratio=0.500000):\n",
      "  RMSE: 0.8041186444902373\n",
      "  MAE: 0.659759372301328\n",
      "  R2: 0.032378837188052345\n"
     ]
    }
   ],
   "source": [
    "with mlflow.start_run():\n",
    "    lr = ElasticNet(alpha=alpha, l1_ratio=l1_ratio, random_state=42)\n",
    "    lr.fit(train_x, train_y)\n",
    "\n",
    "    predicted_qualities = lr.predict(test_x)\n",
    "\n",
    "    # Evaluation Metrics\n",
    "    rmse = np.sqrt(mean_squared_error(test_y, predicted_qualities))\n",
    "    mae = mean_absolute_error(test_y, predicted_qualities)\n",
    "    r2 = r2_score(test_y, predicted_qualities)\n",
    "\n",
    "    print(\"Elasticnet model (alpha=%f, l1_ratio=%f):\" % (alpha, l1_ratio))\n",
    "    print(\"  RMSE: %s\" % rmse)\n",
    "    print(\"  MAE: %s\" % mae)\n",
    "    print(\"  R2: %s\" % r2)\n",
    "\n",
    "    mlflow.log_param(\"alpha\", alpha)\n",
    "    mlflow.log_param(\"l1_ratio\", l1_ratio)\n",
    "    mlflow.log_metric(\"rmse\", rmse)\n",
    "    mlflow.log_metric(\"r2\", r2)\n",
    "    mlflow.log_metric(\"mae\", mae)\n",
    "    \n",
    "    mlflow.sklearn.log_model(lr, \"model\")"
   ]
  },
  {
   "cell_type": "markdown",
   "metadata": {},
   "source": [
    "Now let's look at how we could get that model back and predict on our data!"
   ]
  },
  {
   "cell_type": "code",
   "execution_count": 22,
   "metadata": {},
   "outputs": [],
   "source": [
    "logged_model = 'mlruns/3/<PASTE NAME OF FOLDER HERE AS IN YOUR DIRECTORY UNDER \"mlruns/3/foldername\">/artifacts/model'\n",
    "#logged_model = 'mlruns/3/dfc6fbc4dd154384861ab11ff12abd50/artifacts/model' ##EXAMPLE\n",
    "\n",
    "loaded_model = mlflow.pyfunc.load_model(logged_model)\n",
    "\n",
    "# Predict on a Pandas DataFrame.\n",
    "predictions = pd.DataFrame(loaded_model.predict(test_x))"
   ]
  },
  {
   "cell_type": "markdown",
   "metadata": {},
   "source": [
    "And here we are, now we have the predictions from that model, and this code could be run in any notebook in this repo, allowing the quick and easy versioning of models accross a project!"
   ]
  },
  {
   "cell_type": "code",
   "execution_count": 23,
   "metadata": {},
   "outputs": [
    {
     "data": {
      "text/html": [
       "<div>\n",
       "<style scoped>\n",
       "    .dataframe tbody tr th:only-of-type {\n",
       "        vertical-align: middle;\n",
       "    }\n",
       "\n",
       "    .dataframe tbody tr th {\n",
       "        vertical-align: top;\n",
       "    }\n",
       "\n",
       "    .dataframe thead th {\n",
       "        text-align: right;\n",
       "    }\n",
       "</style>\n",
       "<table border=\"1\" class=\"dataframe\">\n",
       "  <thead>\n",
       "    <tr style=\"text-align: right;\">\n",
       "      <th></th>\n",
       "      <th>0</th>\n",
       "    </tr>\n",
       "  </thead>\n",
       "  <tbody>\n",
       "    <tr>\n",
       "      <th>0</th>\n",
       "      <td>5.753766</td>\n",
       "    </tr>\n",
       "    <tr>\n",
       "      <th>1</th>\n",
       "      <td>5.685089</td>\n",
       "    </tr>\n",
       "    <tr>\n",
       "      <th>2</th>\n",
       "      <td>5.644451</td>\n",
       "    </tr>\n",
       "    <tr>\n",
       "      <th>3</th>\n",
       "      <td>5.668040</td>\n",
       "    </tr>\n",
       "    <tr>\n",
       "      <th>4</th>\n",
       "      <td>5.210016</td>\n",
       "    </tr>\n",
       "    <tr>\n",
       "      <th>5</th>\n",
       "      <td>5.678293</td>\n",
       "    </tr>\n",
       "    <tr>\n",
       "      <th>6</th>\n",
       "      <td>5.793788</td>\n",
       "    </tr>\n",
       "    <tr>\n",
       "      <th>7</th>\n",
       "      <td>5.780076</td>\n",
       "    </tr>\n",
       "    <tr>\n",
       "      <th>8</th>\n",
       "      <td>5.769206</td>\n",
       "    </tr>\n",
       "    <tr>\n",
       "      <th>9</th>\n",
       "      <td>5.635430</td>\n",
       "    </tr>\n",
       "  </tbody>\n",
       "</table>\n",
       "</div>"
      ],
      "text/plain": [
       "          0\n",
       "0  5.753766\n",
       "1  5.685089\n",
       "2  5.644451\n",
       "3  5.668040\n",
       "4  5.210016\n",
       "5  5.678293\n",
       "6  5.793788\n",
       "7  5.780076\n",
       "8  5.769206\n",
       "9  5.635430"
      ]
     },
     "execution_count": 23,
     "metadata": {},
     "output_type": "execute_result"
    }
   ],
   "source": [
    "predictions.head(10)"
   ]
  },
  {
   "cell_type": "markdown",
   "metadata": {},
   "source": [
    "We can also run multiple experiments in one go, by putting our code in a for loop. If you were to use cross validation, you can also implement this code within the code for cross validation and log your results. "
   ]
  },
  {
   "cell_type": "code",
   "execution_count": null,
   "metadata": {},
   "outputs": [
    {
     "name": "stdout",
     "output_type": "stream",
     "text": [
      "Elasticnet model (alpha=0.100000, l1_ratio=0.100000):\n",
      "  RMSE: 0.6749111790652734\n",
      "  MAE: 0.5221634939715329\n",
      "  R2: 0.31835486732606544\n",
      "Elasticnet model (alpha=0.100000, l1_ratio=0.200000):\n",
      "  RMSE: 0.6810244356132275\n",
      "  MAE: 0.5282824832686749\n",
      "  R2: 0.30595043814129963\n",
      "Elasticnet model (alpha=0.100000, l1_ratio=0.300000):\n",
      "  RMSE: 0.6875405282336446\n",
      "  MAE: 0.5341226016968499\n",
      "  R2: 0.29260546325528813\n",
      "Elasticnet model (alpha=0.100000, l1_ratio=0.400000):\n",
      "  RMSE: 0.6922607026886425\n",
      "  MAE: 0.5380831299985435\n",
      "  R2: 0.282859165556022\n",
      "Elasticnet model (alpha=0.200000, l1_ratio=0.100000):\n",
      "  RMSE: 0.6881629585532786\n",
      "  MAE: 0.5366818723203117\n",
      "  R2: 0.2913240751974091\n",
      "Elasticnet model (alpha=0.200000, l1_ratio=0.200000):\n",
      "  RMSE: 0.6958202882256358\n",
      "  MAE: 0.5440642135133438\n",
      "  R2: 0.27546516745363214\n",
      "Elasticnet model (alpha=0.200000, l1_ratio=0.300000):\n",
      "  RMSE: 0.6982147222744433\n",
      "  MAE: 0.5479532528002709\n",
      "  R2: 0.270470096576619\n",
      "Elasticnet model (alpha=0.200000, l1_ratio=0.400000):\n",
      "  RMSE: 0.7012347293364449\n",
      "  MAE: 0.5521937678944953\n",
      "  R2: 0.26414553727205514\n",
      "Elasticnet model (alpha=0.300000, l1_ratio=0.100000):\n",
      "  RMSE: 0.6967243409560244\n",
      "  MAE: 0.5466567887206676\n",
      "  R2: 0.27358122349725456\n",
      "Elasticnet model (alpha=0.300000, l1_ratio=0.200000):\n",
      "  RMSE: 0.7024331777480637\n",
      "  MAE: 0.5534526279563226\n",
      "  R2: 0.261628157089022\n",
      "Elasticnet model (alpha=0.300000, l1_ratio=0.300000):\n",
      "  RMSE: 0.707680616283007\n",
      "  MAE: 0.5601765891707572\n",
      "  R2: 0.2505551235418264\n",
      "Elasticnet model (alpha=0.300000, l1_ratio=0.400000):\n",
      "  RMSE: 0.7143346590421213\n",
      "  MAE: 0.5680399258540638\n",
      "  R2: 0.23639539448169367\n",
      "Elasticnet model (alpha=0.400000, l1_ratio=0.100000):\n",
      "  RMSE: 0.7035235298866359\n",
      "  MAE: 0.5544076019306522\n",
      "  R2: 0.2593341021084714\n",
      "Elasticnet model (alpha=0.400000, l1_ratio=0.200000):\n",
      "  RMSE: 0.7101324004566535\n",
      "  MAE: 0.5631607361166767\n",
      "  R2: 0.24535317213467567\n"
     ]
    }
   ],
   "source": [
    "#Model Parameters\n",
    "alphas = [0.1,0.2,0.3,0.4]\n",
    "l1_ratios = [0.1,0.2,0.3,0.4]\n",
    "\n",
    "for alpha_val in alphas:\n",
    "    for l1_val in l1_ratios:\n",
    "        with mlflow.start_run():\n",
    "            lr = ElasticNet(alpha=alpha_val, l1_ratio=l1_val, random_state=42)\n",
    "            lr.fit(train_x, train_y)\n",
    "\n",
    "            predicted_qualities = lr.predict(test_x)\n",
    "\n",
    "            # Evaluation Metrics\n",
    "            rmse = np.sqrt(mean_squared_error(test_y, predicted_qualities))\n",
    "            mae = mean_absolute_error(test_y, predicted_qualities)\n",
    "            r2 = r2_score(test_y, predicted_qualities)\n",
    "\n",
    "            print(\"Elasticnet model (alpha=%f, l1_ratio=%f):\" % (alpha_val, l1_val))\n",
    "            print(\"  RMSE: %s\" % rmse)\n",
    "            print(\"  MAE: %s\" % mae)\n",
    "            print(\"  R2: %s\" % r2)\n",
    "\n",
    "            mlflow.log_param(\"alpha\", alpha_val)\n",
    "            mlflow.log_param(\"l1_ratio\", l1_val)\n",
    "            mlflow.log_metric(\"rmse\", rmse)\n",
    "            mlflow.log_metric(\"r2\", r2)\n",
    "            mlflow.log_metric(\"mae\", mae)\n",
    "\n",
    "            mlflow.sklearn.log_model(lr, \"model\")"
   ]
  },
  {
   "cell_type": "markdown",
   "metadata": {},
   "source": [
    "Now, when you reload the ML Flow UI, you'll see all these runs logged with all the relevant values recorded. "
   ]
  },
  {
   "cell_type": "code",
   "execution_count": null,
   "metadata": {},
   "outputs": [],
   "source": []
  }
 ],
 "metadata": {
  "kernelspec": {
   "display_name": "Python 3 (ipykernel)",
   "language": "python",
   "name": "python3"
  },
  "language_info": {
   "codemirror_mode": {
    "name": "ipython",
    "version": 3
   },
   "file_extension": ".py",
   "mimetype": "text/x-python",
   "name": "python",
   "nbconvert_exporter": "python",
   "pygments_lexer": "ipython3",
   "version": "3.8.8"
  }
 },
 "nbformat": 4,
 "nbformat_minor": 4
}
