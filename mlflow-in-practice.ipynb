{
 "cells": [
  {
   "cell_type": "markdown",
   "metadata": {},
   "source": [
    "# MLFlow in Practice"
   ]
  },
  {
   "cell_type": "markdown",
   "metadata": {},
   "source": [
    "> In this notebook, we'll get started with MLFlow, learning how to create experiments, track our parameters and metrics, and eventually save and look at our model in the MLFlow user interface!"
   ]
  },
  {
   "cell_type": "markdown",
   "metadata": {},
   "source": [
    "### Installing and importing packages"
   ]
  },
  {
   "cell_type": "code",
   "execution_count": 1,
   "metadata": {},
   "outputs": [
    {
     "name": "stdout",
     "output_type": "stream",
     "text": [
      "Requirement already satisfied: mlflow in /Users/zhangp1/miniconda3/lib/python3.9/site-packages (2.2.2)\n",
      "Requirement already satisfied: markdown<4,>=3.3 in /Users/zhangp1/miniconda3/lib/python3.9/site-packages (from mlflow) (3.4.3)\n",
      "Requirement already satisfied: pandas<3 in /Users/zhangp1/miniconda3/lib/python3.9/site-packages (from mlflow) (1.5.1)\n",
      "Requirement already satisfied: sqlparse<1,>=0.4.0 in /Users/zhangp1/miniconda3/lib/python3.9/site-packages (from mlflow) (0.4.3)\n",
      "Requirement already satisfied: scipy<2 in /Users/zhangp1/miniconda3/lib/python3.9/site-packages (from mlflow) (1.10.1)\n",
      "Requirement already satisfied: databricks-cli<1,>=0.8.7 in /Users/zhangp1/miniconda3/lib/python3.9/site-packages (from mlflow) (0.17.6)\n",
      "Requirement already satisfied: packaging<24 in /Users/zhangp1/miniconda3/lib/python3.9/site-packages (from mlflow) (21.3)\n",
      "Requirement already satisfied: cloudpickle<3 in /Users/zhangp1/miniconda3/lib/python3.9/site-packages (from mlflow) (2.2.1)\n",
      "Requirement already satisfied: Jinja2<4,>=2.11 in /Users/zhangp1/miniconda3/lib/python3.9/site-packages (from mlflow) (3.1.2)\n",
      "Requirement already satisfied: click<9,>=7.0 in /Users/zhangp1/miniconda3/lib/python3.9/site-packages (from mlflow) (8.1.3)\n",
      "Requirement already satisfied: matplotlib<4 in /Users/zhangp1/miniconda3/lib/python3.9/site-packages (from mlflow) (3.7.1)\n",
      "Requirement already satisfied: shap<1,>=0.40 in /Users/zhangp1/miniconda3/lib/python3.9/site-packages (from mlflow) (0.41.0)\n",
      "Requirement already satisfied: pytz<2023 in /Users/zhangp1/miniconda3/lib/python3.9/site-packages (from mlflow) (2022.5)\n",
      "Requirement already satisfied: alembic<2 in /Users/zhangp1/miniconda3/lib/python3.9/site-packages (from mlflow) (1.10.2)\n",
      "Requirement already satisfied: pyyaml<7,>=5.1 in /Users/zhangp1/miniconda3/lib/python3.9/site-packages (from mlflow) (6.0)\n",
      "Requirement already satisfied: querystring-parser<2 in /Users/zhangp1/miniconda3/lib/python3.9/site-packages (from mlflow) (1.2.4)\n",
      "Requirement already satisfied: requests<3,>=2.17.3 in /Users/zhangp1/miniconda3/lib/python3.9/site-packages (from mlflow) (2.27.1)\n",
      "Requirement already satisfied: entrypoints<1 in /Users/zhangp1/miniconda3/lib/python3.9/site-packages (from mlflow) (0.4)\n",
      "Requirement already satisfied: gunicorn<21 in /Users/zhangp1/miniconda3/lib/python3.9/site-packages (from mlflow) (20.1.0)\n",
      "Requirement already satisfied: docker<7,>=4.0.0 in /Users/zhangp1/miniconda3/lib/python3.9/site-packages (from mlflow) (6.0.1)\n",
      "Requirement already satisfied: numpy<2 in /Users/zhangp1/miniconda3/lib/python3.9/site-packages (from mlflow) (1.23.4)\n",
      "Requirement already satisfied: Flask<3 in /Users/zhangp1/miniconda3/lib/python3.9/site-packages (from mlflow) (2.2.2)\n",
      "Requirement already satisfied: importlib-metadata!=4.7.0,<7,>=3.7.0 in /Users/zhangp1/miniconda3/lib/python3.9/site-packages (from mlflow) (4.12.0)\n",
      "Requirement already satisfied: sqlalchemy<3,>=1.4.0 in /Users/zhangp1/miniconda3/lib/python3.9/site-packages (from mlflow) (2.0.7)\n",
      "Requirement already satisfied: pyarrow<12,>=4.0.0 in /Users/zhangp1/miniconda3/lib/python3.9/site-packages (from mlflow) (10.0.1)\n",
      "Requirement already satisfied: scikit-learn<2 in /Users/zhangp1/miniconda3/lib/python3.9/site-packages (from mlflow) (1.2.2)\n",
      "Requirement already satisfied: gitpython<4,>=2.1.0 in /Users/zhangp1/miniconda3/lib/python3.9/site-packages (from mlflow) (3.1.31)\n",
      "Requirement already satisfied: protobuf<5,>=3.12.0 in /Users/zhangp1/miniconda3/lib/python3.9/site-packages (from mlflow) (4.22.1)\n",
      "Requirement already satisfied: Mako in /Users/zhangp1/miniconda3/lib/python3.9/site-packages (from alembic<2->mlflow) (1.2.4)\n",
      "Requirement already satisfied: typing-extensions>=4 in /Users/zhangp1/miniconda3/lib/python3.9/site-packages (from alembic<2->mlflow) (4.3.0)\n",
      "Requirement already satisfied: tabulate>=0.7.7 in /Users/zhangp1/miniconda3/lib/python3.9/site-packages (from databricks-cli<1,>=0.8.7->mlflow) (0.9.0)\n",
      "Requirement already satisfied: oauthlib>=3.1.0 in /Users/zhangp1/miniconda3/lib/python3.9/site-packages (from databricks-cli<1,>=0.8.7->mlflow) (3.2.2)\n",
      "Requirement already satisfied: pyjwt>=1.7.0 in /Users/zhangp1/miniconda3/lib/python3.9/site-packages (from databricks-cli<1,>=0.8.7->mlflow) (2.6.0)\n",
      "Requirement already satisfied: six>=1.10.0 in /Users/zhangp1/miniconda3/lib/python3.9/site-packages (from databricks-cli<1,>=0.8.7->mlflow) (1.16.0)\n",
      "Requirement already satisfied: websocket-client>=0.32.0 in /Users/zhangp1/miniconda3/lib/python3.9/site-packages (from docker<7,>=4.0.0->mlflow) (0.58.0)\n",
      "Requirement already satisfied: urllib3>=1.26.0 in /Users/zhangp1/miniconda3/lib/python3.9/site-packages (from docker<7,>=4.0.0->mlflow) (1.26.8)\n",
      "Requirement already satisfied: Werkzeug>=2.2.2 in /Users/zhangp1/miniconda3/lib/python3.9/site-packages (from Flask<3->mlflow) (2.2.2)\n",
      "Requirement already satisfied: itsdangerous>=2.0 in /Users/zhangp1/miniconda3/lib/python3.9/site-packages (from Flask<3->mlflow) (2.1.2)\n",
      "Requirement already satisfied: gitdb<5,>=4.0.1 in /Users/zhangp1/miniconda3/lib/python3.9/site-packages (from gitpython<4,>=2.1.0->mlflow) (4.0.10)\n",
      "Requirement already satisfied: smmap<6,>=3.0.1 in /Users/zhangp1/miniconda3/lib/python3.9/site-packages (from gitdb<5,>=4.0.1->gitpython<4,>=2.1.0->mlflow) (5.0.0)\n",
      "Requirement already satisfied: setuptools>=3.0 in /Users/zhangp1/miniconda3/lib/python3.9/site-packages (from gunicorn<21->mlflow) (61.2.0)\n",
      "Requirement already satisfied: zipp>=0.5 in /Users/zhangp1/miniconda3/lib/python3.9/site-packages (from importlib-metadata!=4.7.0,<7,>=3.7.0->mlflow) (3.8.1)\n",
      "Requirement already satisfied: MarkupSafe>=2.0 in /Users/zhangp1/miniconda3/lib/python3.9/site-packages (from Jinja2<4,>=2.11->mlflow) (2.1.1)\n",
      "Requirement already satisfied: fonttools>=4.22.0 in /Users/zhangp1/miniconda3/lib/python3.9/site-packages (from matplotlib<4->mlflow) (4.39.2)\n",
      "Requirement already satisfied: importlib-resources>=3.2.0 in /Users/zhangp1/miniconda3/lib/python3.9/site-packages (from matplotlib<4->mlflow) (5.12.0)\n",
      "Requirement already satisfied: python-dateutil>=2.7 in /Users/zhangp1/miniconda3/lib/python3.9/site-packages (from matplotlib<4->mlflow) (2.8.2)\n",
      "Requirement already satisfied: contourpy>=1.0.1 in /Users/zhangp1/miniconda3/lib/python3.9/site-packages (from matplotlib<4->mlflow) (1.0.7)\n",
      "Requirement already satisfied: pyparsing>=2.3.1 in /Users/zhangp1/miniconda3/lib/python3.9/site-packages (from matplotlib<4->mlflow) (3.0.9)\n",
      "Requirement already satisfied: cycler>=0.10 in /Users/zhangp1/miniconda3/lib/python3.9/site-packages (from matplotlib<4->mlflow) (0.11.0)\n",
      "Requirement already satisfied: kiwisolver>=1.0.1 in /Users/zhangp1/miniconda3/lib/python3.9/site-packages (from matplotlib<4->mlflow) (1.4.4)\n",
      "Requirement already satisfied: pillow>=6.2.0 in /Users/zhangp1/miniconda3/lib/python3.9/site-packages (from matplotlib<4->mlflow) (9.4.0)\n",
      "Requirement already satisfied: charset-normalizer~=2.0.0 in /Users/zhangp1/miniconda3/lib/python3.9/site-packages (from requests<3,>=2.17.3->mlflow) (2.0.4)\n",
      "Requirement already satisfied: idna<4,>=2.5 in /Users/zhangp1/miniconda3/lib/python3.9/site-packages (from requests<3,>=2.17.3->mlflow) (3.3)\n",
      "Requirement already satisfied: certifi>=2017.4.17 in /Users/zhangp1/miniconda3/lib/python3.9/site-packages (from requests<3,>=2.17.3->mlflow) (2022.12.7)\n",
      "Requirement already satisfied: joblib>=1.1.1 in /Users/zhangp1/miniconda3/lib/python3.9/site-packages (from scikit-learn<2->mlflow) (1.2.0)\n",
      "Requirement already satisfied: threadpoolctl>=2.0.0 in /Users/zhangp1/miniconda3/lib/python3.9/site-packages (from scikit-learn<2->mlflow) (3.1.0)\n",
      "Requirement already satisfied: slicer==0.0.7 in /Users/zhangp1/miniconda3/lib/python3.9/site-packages (from shap<1,>=0.40->mlflow) (0.0.7)\n",
      "Requirement already satisfied: numba in /Users/zhangp1/miniconda3/lib/python3.9/site-packages (from shap<1,>=0.40->mlflow) (0.56.4)\n",
      "Requirement already satisfied: tqdm>4.25.0 in /Users/zhangp1/miniconda3/lib/python3.9/site-packages (from shap<1,>=0.40->mlflow) (4.63.0)\n",
      "Requirement already satisfied: greenlet!=0.4.17 in /Users/zhangp1/miniconda3/lib/python3.9/site-packages (from sqlalchemy<3,>=1.4.0->mlflow) (2.0.2)\n",
      "Requirement already satisfied: llvmlite<0.40,>=0.39.0dev0 in /Users/zhangp1/miniconda3/lib/python3.9/site-packages (from numba->shap<1,>=0.40->mlflow) (0.39.1)\n"
     ]
    }
   ],
   "source": [
    "!pip install mlflow"
   ]
  },
  {
   "cell_type": "code",
   "execution_count": 2,
   "metadata": {},
   "outputs": [],
   "source": [
    "import os\n",
    "import warnings\n",
    "import sys\n",
    "\n",
    "import pandas as pd\n",
    "import numpy as np\n",
    "import matplotlib.pyplot as plt\n",
    "from sklearn.metrics import mean_squared_error, mean_absolute_error, r2_score\n",
    "from sklearn.model_selection import train_test_split\n",
    "from sklearn.linear_model import ElasticNet\n",
    "from urllib.parse import urlparse\n",
    "import mlflow\n",
    "import mlflow.sklearn\n",
    "\n",
    "import logging"
   ]
  },
  {
   "cell_type": "markdown",
   "metadata": {},
   "source": [
    "### Our first experiment!"
   ]
  },
  {
   "cell_type": "markdown",
   "metadata": {},
   "source": [
    "The first thing we need to do is create an experiment in MLFlow to store information about our models. We will want to do this for each new model we want to track so that MLFlow knows to treat them separately"
   ]
  },
  {
   "cell_type": "code",
   "execution_count": 3,
   "metadata": {},
   "outputs": [
    {
     "name": "stderr",
     "output_type": "stream",
     "text": [
      "2023/03/27 08:34:35 INFO mlflow.tracking.fluent: Experiment with name 'mlflow-run-1' does not exist. Creating a new experiment.\n"
     ]
    },
    {
     "data": {
      "text/plain": [
       "<Experiment: artifact_location='file:///Users/zhangp1/class-demo/mlflow-demo/mlruns/807700333596781316', creation_time=1679924075351, experiment_id='807700333596781316', last_update_time=1679924075351, lifecycle_stage='active', name='mlflow-run-1', tags={}>"
      ]
     },
     "execution_count": 3,
     "metadata": {},
     "output_type": "execute_result"
    }
   ],
   "source": [
    "mlflow.set_experiment('mlflow-run-1')"
   ]
  },
  {
   "cell_type": "markdown",
   "metadata": {},
   "source": [
    "Now we're ready to start tracking parameters and metrics! We'll start off with some simple values to get acclamated to how it works.\n",
    "\n",
    "We will also start the ML Flow UI with the command below. Open a new Terminal window and change directory to this directory. Then, paste the code. Click on the link generated to open the UI. This UI allows you to keep track of your experiments and results. "
   ]
  },
  {
   "cell_type": "code",
   "execution_count": 4,
   "metadata": {},
   "outputs": [],
   "source": [
    "# First, open a new terminal and change directory to where this repository is located. Then, run the following code:\n",
    "#!mlflow ui\n",
    "#Then open the generated link. (Likely looks like http://127.0.0.1:5000)"
   ]
  },
  {
   "cell_type": "code",
   "execution_count": 5,
   "metadata": {},
   "outputs": [],
   "source": [
    "with mlflow.start_run():\n",
    "    mlflow.log_param('parameter',3)\n",
    "    mlflow.log_param('string-parameter','string')\n",
    "    mlflow.log_metric('accuracy',1)"
   ]
  },
  {
   "cell_type": "markdown",
   "metadata": {},
   "source": [
    "### Getting some actual numbers involved"
   ]
  },
  {
   "cell_type": "markdown",
   "metadata": {},
   "source": [
    "Now let's generate some points. We're just going to create 100 points that are roughly in a line, keeping the line there to show what a model might produce if we asked it to learn these points."
   ]
  },
  {
   "cell_type": "code",
   "execution_count": 6,
   "metadata": {},
   "outputs": [
    {
     "data": {
      "image/png": "[encoded data removed]",
      "text/plain": [
       "<Figure size 432x288 with 1 Axes>"
      ]
     },
     "metadata": {
      "needs_background": "light"
     },
     "output_type": "display_data"
    }
   ],
   "source": [
    "def f(x):\n",
    "    return 3*x + 1\n",
    "N = 100\n",
    "x = np.linspace(-2,2,N)\n",
    "y = f(x) + np.random.randn(N)\n",
    "\n",
    "plt.plot(x,f(x),color = 'red')\n",
    "plt.scatter(x,y);"
   ]
  },
  {
   "cell_type": "markdown",
   "metadata": {},
   "source": [
    "These are our line parameters, slope and intercept. Currently, they are set to the line of best fit that we generated the data from, but we can change these because these are our parameters! Let's try that:"
   ]
  },
  {
   "cell_type": "code",
   "execution_count": 7,
   "metadata": {},
   "outputs": [],
   "source": [
    "slope = 3\n",
    "intercept = 1"
   ]
  },
  {
   "cell_type": "markdown",
   "metadata": {},
   "source": [
    "The code below will show the new line based on the parameters above. Feel free to change the parameters and re-run this cell to see what the lines look like!"
   ]
  },
  {
   "cell_type": "code",
   "execution_count": 8,
   "metadata": {},
   "outputs": [
    {
     "data": {
      "image/png": "[encoded data removed]",
      "text/plain": [
       "<Figure size 432x288 with 1 Axes>"
      ]
     },
     "metadata": {
      "needs_background": "light"
     },
     "output_type": "display_data"
    }
   ],
   "source": [
    "plt.plot(x,slope*x + intercept,color = 'green')\n",
    "plt.scatter(x,y);"
   ]
  },
  {
   "cell_type": "markdown",
   "metadata": {},
   "source": [
    "Now we need an evaluation metric. Here we will calculate the mean absolute error, which is just the average distance between each point and the green line. Re-run this cell whenever you change the input parameters and watch the error change in response"
   ]
  },
  {
   "cell_type": "code",
   "execution_count": 9,
   "metadata": {},
   "outputs": [
    {
     "name": "stdout",
     "output_type": "stream",
     "text": [
      "0.8567929241708631\n"
     ]
    }
   ],
   "source": [
    "error = mean_absolute_error(y,slope*x + intercept)\n",
    "print(error)"
   ]
  },
  {
   "cell_type": "code",
   "execution_count": 10,
   "metadata": {},
   "outputs": [
    {
     "name": "stderr",
     "output_type": "stream",
     "text": [
      "2023/03/27 08:34:35 INFO mlflow.tracking.fluent: Experiment with name 'mlflow-run-2' does not exist. Creating a new experiment.\n"
     ]
    },
    {
     "data": {
      "text/plain": [
       "<Experiment: artifact_location='file:///Users/zhangp1/class-demo/mlflow-demo/mlruns/744431533332270867', creation_time=1679924075983, experiment_id='744431533332270867', last_update_time=1679924075983, lifecycle_stage='active', name='mlflow-run-2', tags={}>"
      ]
     },
     "execution_count": 10,
     "metadata": {},
     "output_type": "execute_result"
    }
   ],
   "source": [
    "mlflow.set_experiment('mlflow-run-2')"
   ]
  },
  {
   "cell_type": "markdown",
   "metadata": {},
   "source": [
    "Now we can have MLFlow track these exact parameters and save the error too! Running this will log our run under the current experiment. Changing the parameters and running it again will add THAT run as well, and then the MLFlow UI will allow us to compare runs, sort them by error if we want, and see exactly what paramaters went into each one\n",
    "\n",
    "Again, we'll want to first create another experiment. In the UI, this will create a new tab for these runs so that we can look at them separately"
   ]
  },
  {
   "cell_type": "code",
   "execution_count": 11,
   "metadata": {},
   "outputs": [],
   "source": [
    "with mlflow.start_run():\n",
    "    mlflow.log_param('slope',slope)\n",
    "    mlflow.log_param('intercept',intercept)\n",
    "    mlflow.log_metric('mean-sq-error',error)"
   ]
  },
  {
   "cell_type": "markdown",
   "metadata": {},
   "source": [
    "To log another set of parameters as another run, simply change the values of the slope and intercept as below. Refreshing the ML Flow UI will show the new logged results."
   ]
  },
  {
   "cell_type": "code",
   "execution_count": 12,
   "metadata": {},
   "outputs": [
    {
     "name": "stdout",
     "output_type": "stream",
     "text": [
      "1.2465394340560685\n"
     ]
    }
   ],
   "source": [
    "slope = 4\n",
    "intercept = 1\n",
    "\n",
    "error = mean_absolute_error(y,slope*x + intercept)\n",
    "print(error)\n",
    "\n",
    "with mlflow.start_run():\n",
    "    mlflow.log_param('slope',slope)\n",
    "    mlflow.log_param('intercept',intercept)\n",
    "    mlflow.log_metric('mean-sq-error',error)"
   ]
  },
  {
   "cell_type": "markdown",
   "metadata": {},
   "source": [
    "Now we have a good understanding of what MLFlow is actually doing, let's get to using it on a real model with some actual data"
   ]
  },
  {
   "cell_type": "markdown",
   "metadata": {},
   "source": [
    "### Modeling on real data"
   ]
  },
  {
   "cell_type": "markdown",
   "metadata": {},
   "source": [
    "Once again, it's important for us to create a new experiment to track this new model. We ALWAYS need to do this, or else our models will go to the same place!"
   ]
  },
  {
   "cell_type": "code",
   "execution_count": 13,
   "metadata": {},
   "outputs": [
    {
     "name": "stderr",
     "output_type": "stream",
     "text": [
      "2023/03/27 08:34:36 INFO mlflow.tracking.fluent: Experiment with name 'mlflow-run-3' does not exist. Creating a new experiment.\n"
     ]
    },
    {
     "data": {
      "text/plain": [
       "<Experiment: artifact_location='file:///Users/zhangp1/class-demo/mlflow-demo/mlruns/758929604358107951', creation_time=1679924076095, experiment_id='758929604358107951', last_update_time=1679924076095, lifecycle_stage='active', name='mlflow-run-3', tags={}>"
      ]
     },
     "execution_count": 13,
     "metadata": {},
     "output_type": "execute_result"
    }
   ],
   "source": [
    "mlflow.set_experiment('mlflow-run-3')"
   ]
  },
  {
   "cell_type": "markdown",
   "metadata": {},
   "source": [
    "The data we will be using here is Sci-Kit-Learn's wine-quality dataset, which contains some characteristics about various wines and then gives them a 'quality' score that we want to predict."
   ]
  },
  {
   "cell_type": "code",
   "execution_count": 14,
   "metadata": {},
   "outputs": [],
   "source": [
    "data = pd.read_csv('http://archive.ics.uci.edu/ml/machine-learning-databases/wine-quality/winequality-red.csv', sep=\";\")"
   ]
  },
  {
   "cell_type": "markdown",
   "metadata": {},
   "source": [
    "Let's look at that data:"
   ]
  },
  {
   "cell_type": "code",
   "execution_count": 15,
   "metadata": {},
   "outputs": [
    {
     "data": {
      "text/html": [
       "<div>\n",
       "<style scoped>\n",
       "    .dataframe tbody tr th:only-of-type {\n",
       "        vertical-align: middle;\n",
       "    }\n",
       "\n",
       "    .dataframe tbody tr th {\n",
       "        vertical-align: top;\n",
       "    }\n",
       "\n",
       "    .dataframe thead th {\n",
       "        text-align: right;\n",
       "    }\n",
       "</style>\n",
       "<table border=\"1\" class=\"dataframe\">\n",
       "  <thead>\n",
       "    <tr style=\"text-align: right;\">\n",
       "      <th></th>\n",
       "      <th>fixed acidity</th>\n",
       "      <th>volatile acidity</th>\n",
       "      <th>citric acid</th>\n",
       "      <th>residual sugar</th>\n",
       "      <th>chlorides</th>\n",
       "      <th>free sulfur dioxide</th>\n",
       "      <th>total sulfur dioxide</th>\n",
       "      <th>density</th>\n",
       "      <th>pH</th>\n",
       "      <th>sulphates</th>\n",
       "      <th>alcohol</th>\n",
       "      <th>quality</th>\n",
       "    </tr>\n",
       "  </thead>\n",
       "  <tbody>\n",
       "    <tr>\n",
       "      <th>0</th>\n",
       "      <td>7.4</td>\n",
       "      <td>0.70</td>\n",
       "      <td>0.00</td>\n",
       "      <td>1.9</td>\n",
       "      <td>0.076</td>\n",
       "      <td>11.0</td>\n",
       "      <td>34.0</td>\n",
       "      <td>0.9978</td>\n",
       "      <td>3.51</td>\n",
       "      <td>0.56</td>\n",
       "      <td>9.4</td>\n",
       "      <td>5</td>\n",
       "    </tr>\n",
       "    <tr>\n",
       "      <th>1</th>\n",
       "      <td>7.8</td>\n",
       "      <td>0.88</td>\n",
       "      <td>0.00</td>\n",
       "      <td>2.6</td>\n",
       "      <td>0.098</td>\n",
       "      <td>25.0</td>\n",
       "      <td>67.0</td>\n",
       "      <td>0.9968</td>\n",
       "      <td>3.20</td>\n",
       "      <td>0.68</td>\n",
       "      <td>9.8</td>\n",
       "      <td>5</td>\n",
       "    </tr>\n",
       "    <tr>\n",
       "      <th>2</th>\n",
       "      <td>7.8</td>\n",
       "      <td>0.76</td>\n",
       "      <td>0.04</td>\n",
       "      <td>2.3</td>\n",
       "      <td>0.092</td>\n",
       "      <td>15.0</td>\n",
       "      <td>54.0</td>\n",
       "      <td>0.9970</td>\n",
       "      <td>3.26</td>\n",
       "      <td>0.65</td>\n",
       "      <td>9.8</td>\n",
       "      <td>5</td>\n",
       "    </tr>\n",
       "    <tr>\n",
       "      <th>3</th>\n",
       "      <td>11.2</td>\n",
       "      <td>0.28</td>\n",
       "      <td>0.56</td>\n",
       "      <td>1.9</td>\n",
       "      <td>0.075</td>\n",
       "      <td>17.0</td>\n",
       "      <td>60.0</td>\n",
       "      <td>0.9980</td>\n",
       "      <td>3.16</td>\n",
       "      <td>0.58</td>\n",
       "      <td>9.8</td>\n",
       "      <td>6</td>\n",
       "    </tr>\n",
       "    <tr>\n",
       "      <th>4</th>\n",
       "      <td>7.4</td>\n",
       "      <td>0.70</td>\n",
       "      <td>0.00</td>\n",
       "      <td>1.9</td>\n",
       "      <td>0.076</td>\n",
       "      <td>11.0</td>\n",
       "      <td>34.0</td>\n",
       "      <td>0.9978</td>\n",
       "      <td>3.51</td>\n",
       "      <td>0.56</td>\n",
       "      <td>9.4</td>\n",
       "      <td>5</td>\n",
       "    </tr>\n",
       "  </tbody>\n",
       "</table>\n",
       "</div>"
      ],
      "text/plain": [
       "   fixed acidity  volatile acidity  citric acid  residual sugar  chlorides  \\\n",
       "0            7.4              0.70         0.00             1.9      0.076   \n",
       "1            7.8              0.88         0.00             2.6      0.098   \n",
       "2            7.8              0.76         0.04             2.3      0.092   \n",
       "3           11.2              0.28         0.56             1.9      0.075   \n",
       "4            7.4              0.70         0.00             1.9      0.076   \n",
       "\n",
       "   free sulfur dioxide  total sulfur dioxide  density    pH  sulphates  \\\n",
       "0                 11.0                  34.0   0.9978  3.51       0.56   \n",
       "1                 25.0                  67.0   0.9968  3.20       0.68   \n",
       "2                 15.0                  54.0   0.9970  3.26       0.65   \n",
       "3                 17.0                  60.0   0.9980  3.16       0.58   \n",
       "4                 11.0                  34.0   0.9978  3.51       0.56   \n",
       "\n",
       "   alcohol  quality  \n",
       "0      9.4        5  \n",
       "1      9.8        5  \n",
       "2      9.8        5  \n",
       "3      9.8        6  \n",
       "4      9.4        5  "
      ]
     },
     "execution_count": 15,
     "metadata": {},
     "output_type": "execute_result"
    }
   ],
   "source": [
    "data.head()"
   ]
  },
  {
   "cell_type": "markdown",
   "metadata": {},
   "source": [
    "Now let's get into some actual modeling. First, we need to split the data into training and test sets and make sure to separate the target column that we want to predict. That is done with the code below:"
   ]
  },
  {
   "cell_type": "code",
   "execution_count": 16,
   "metadata": {},
   "outputs": [],
   "source": [
    "# Split the data into training and test sets\n",
    "train, test = train_test_split(data)\n",
    "\n",
    "# The target column is \"quality\"\n",
    "train_x = train.drop([\"quality\"], axis=1)\n",
    "test_x = test.drop([\"quality\"], axis=1)\n",
    "train_y = train[[\"quality\"]]\n",
    "test_y = test[[\"quality\"]]"
   ]
  },
  {
   "cell_type": "markdown",
   "metadata": {},
   "source": [
    "The model we will use for this is an ElasticNet, which has two parameter we can adjust, alpha and l1_ratio"
   ]
  },
  {
   "cell_type": "code",
   "execution_count": 17,
   "metadata": {},
   "outputs": [],
   "source": [
    "#Model Parameters\n",
    "alpha = 0.8\n",
    "l1_ratio = 0.5"
   ]
  },
  {
   "cell_type": "markdown",
   "metadata": {},
   "source": [
    "Let's train the model and get some "
   ]
  },
  {
   "cell_type": "code",
   "execution_count": 18,
   "metadata": {},
   "outputs": [],
   "source": [
    "#Train Model\n",
    "lr = ElasticNet(alpha=alpha, l1_ratio=l1_ratio, random_state=42)\n",
    "lr.fit(train_x, train_y)\n",
    "\n",
    "#Get Predictions\n",
    "predicted_qualities = lr.predict(test_x)"
   ]
  },
  {
   "cell_type": "markdown",
   "metadata": {},
   "source": [
    "It's as easy as that! Now let's see how we did. The metrics we will be looking at here are mean absolute error just like before, as well as root mean square error and r-squared"
   ]
  },
  {
   "cell_type": "code",
   "execution_count": 19,
   "metadata": {},
   "outputs": [
    {
     "name": "stdout",
     "output_type": "stream",
     "text": [
      "Elasticnet model (alpha=0.800000, l1_ratio=0.500000):\n",
      "  RMSE: 0.772756118129038\n",
      "  MAE: 0.6380160877763658\n",
      "  R2: 0.04360037140202644\n"
     ]
    }
   ],
   "source": [
    "rmse = np.sqrt(mean_squared_error(test_y, predicted_qualities))\n",
    "mae = mean_absolute_error(test_y, predicted_qualities)\n",
    "r2 = r2_score(test_y, predicted_qualities)\n",
    "\n",
    "print(\"Elasticnet model (alpha=%f, l1_ratio=%f):\" % (alpha, l1_ratio))\n",
    "print(\"  RMSE: %s\" % rmse)\n",
    "print(\"  MAE: %s\" % mae)\n",
    "print(\"  R2: %s\" % r2)"
   ]
  },
  {
   "cell_type": "markdown",
   "metadata": {},
   "source": [
    "Now let's do all of that as an mlflow run and watch it appear in the UI!\n",
    "We'll also add one final step for mlflow to log the model itself for us to be able to get later as well."
   ]
  },
  {
   "cell_type": "code",
   "execution_count": 20,
   "metadata": {},
   "outputs": [
    {
     "name": "stdout",
     "output_type": "stream",
     "text": [
      "Elasticnet model (alpha=0.800000, l1_ratio=0.500000):\n",
      "  RMSE: 0.772756118129038\n",
      "  MAE: 0.6380160877763658\n",
      "  R2: 0.04360037140202644\n"
     ]
    },
    {
     "name": "stderr",
     "output_type": "stream",
     "text": [
      "/Users/zhangp1/opt/anaconda3/lib/python3.8/site-packages/_distutils_hack/__init__.py:30: UserWarning: Setuptools is replacing distutils.\n",
      "  warnings.warn(\"Setuptools is replacing distutils.\")\n"
     ]
    }
   ],
   "source": [
    "with mlflow.start_run():\n",
    "    lr = ElasticNet(alpha=alpha, l1_ratio=l1_ratio, random_state=42)\n",
    "    lr.fit(train_x, train_y)\n",
    "\n",
    "    predicted_qualities = lr.predict(test_x)\n",
    "\n",
    "    # Evaluation Metrics\n",
    "    rmse = np.sqrt(mean_squared_error(test_y, predicted_qualities))\n",
    "    mae = mean_absolute_error(test_y, predicted_qualities)\n",
    "    r2 = r2_score(test_y, predicted_qualities)\n",
    "\n",
    "    print(\"Elasticnet model (alpha=%f, l1_ratio=%f):\" % (alpha, l1_ratio))\n",
    "    print(\"  RMSE: %s\" % rmse)\n",
    "    print(\"  MAE: %s\" % mae)\n",
    "    print(\"  R2: %s\" % r2)\n",
    "\n",
    "    mlflow.log_param(\"alpha\", alpha)\n",
    "    mlflow.log_param(\"l1_ratio\", l1_ratio)\n",
    "    mlflow.log_metric(\"rmse\", rmse)\n",
    "    mlflow.log_metric(\"r2\", r2)\n",
    "    mlflow.log_metric(\"mae\", mae)\n",
    "    \n",
    "    mlflow.sklearn.log_model(lr, \"model\")"
   ]
  },
  {
   "cell_type": "markdown",
   "metadata": {},
   "source": [
    "Now let's look at how we could get that model back and predict on our data!"
   ]
  },
  {
   "cell_type": "code",
   "execution_count": 23,
   "metadata": {},
   "outputs": [],
   "source": [
    "logged_model = 'mlruns/<EXP_ID>/<MODEL_ID>/artifacts/model'\n",
    "# logged_model = 'mlruns/777930285435130117/40252f529a95424da5f667aeae4721df/artifacts/model' ##EXAMPLE\n",
    "\n",
    "loaded_model = mlflow.pyfunc.load_model(logged_model)\n",
    "\n",
    "# Predict on a Pandas DataFrame.\n",
    "predictions = pd.DataFrame(loaded_model.predict(test_x))"
   ]
  },
  {
   "cell_type": "markdown",
   "metadata": {},
   "source": [
    "And here we are, now we have the predictions from that model, and this code could be run in any notebook in this repo, allowing the quick and easy versioning of models accross a project!"
   ]
  },
  {
   "cell_type": "code",
   "execution_count": 24,
   "metadata": {},
   "outputs": [
    {
     "data": {
      "text/html": [
       "<div>\n",
       "<style scoped>\n",
       "    .dataframe tbody tr th:only-of-type {\n",
       "        vertical-align: middle;\n",
       "    }\n",
       "\n",
       "    .dataframe tbody tr th {\n",
       "        vertical-align: top;\n",
       "    }\n",
       "\n",
       "    .dataframe thead th {\n",
       "        text-align: right;\n",
       "    }\n",
       "</style>\n",
       "<table border=\"1\" class=\"dataframe\">\n",
       "  <thead>\n",
       "    <tr style=\"text-align: right;\">\n",
       "      <th></th>\n",
       "      <th>0</th>\n",
       "    </tr>\n",
       "  </thead>\n",
       "  <tbody>\n",
       "    <tr>\n",
       "      <th>0</th>\n",
       "      <td>5.453236</td>\n",
       "    </tr>\n",
       "    <tr>\n",
       "      <th>1</th>\n",
       "      <td>5.297683</td>\n",
       "    </tr>\n",
       "    <tr>\n",
       "      <th>2</th>\n",
       "      <td>5.717179</td>\n",
       "    </tr>\n",
       "    <tr>\n",
       "      <th>3</th>\n",
       "      <td>5.673450</td>\n",
       "    </tr>\n",
       "    <tr>\n",
       "      <th>4</th>\n",
       "      <td>5.644071</td>\n",
       "    </tr>\n",
       "    <tr>\n",
       "      <th>5</th>\n",
       "      <td>5.504827</td>\n",
       "    </tr>\n",
       "    <tr>\n",
       "      <th>6</th>\n",
       "      <td>5.548161</td>\n",
       "    </tr>\n",
       "    <tr>\n",
       "      <th>7</th>\n",
       "      <td>5.736342</td>\n",
       "    </tr>\n",
       "    <tr>\n",
       "      <th>8</th>\n",
       "      <td>5.268399</td>\n",
       "    </tr>\n",
       "    <tr>\n",
       "      <th>9</th>\n",
       "      <td>5.707942</td>\n",
       "    </tr>\n",
       "  </tbody>\n",
       "</table>\n",
       "</div>"
      ],
      "text/plain": [
       "          0\n",
       "0  5.453236\n",
       "1  5.297683\n",
       "2  5.717179\n",
       "3  5.673450\n",
       "4  5.644071\n",
       "5  5.504827\n",
       "6  5.548161\n",
       "7  5.736342\n",
       "8  5.268399\n",
       "9  5.707942"
      ]
     },
     "execution_count": 24,
     "metadata": {},
     "output_type": "execute_result"
    }
   ],
   "source": [
    "predictions.head(10)"
   ]
  },
  {
   "cell_type": "markdown",
   "metadata": {},
   "source": [
    "We can also run multiple experiments in one go, by putting our code in a for loop. If you were to use cross validation, you can also implement this code within the code for cross validation and log your results. "
   ]
  },
  {
   "cell_type": "code",
   "execution_count": null,
   "metadata": {},
   "outputs": [
    {
     "name": "stdout",
     "output_type": "stream",
     "text": [
      "Elasticnet model (alpha=0.100000, l1_ratio=0.100000):\n",
      "  RMSE: 0.6518918312122391\n",
      "  MAE: 0.5199992368837985\n",
      "  R2: 0.31937864328128673\n",
      "Elasticnet model (alpha=0.100000, l1_ratio=0.200000):\n",
      "  RMSE: 0.6593780870070142\n",
      "  MAE: 0.5262601028502496\n",
      "  R2: 0.3036565179178704\n",
      "Elasticnet model (alpha=0.100000, l1_ratio=0.300000):\n",
      "  RMSE: 0.6666591379380109\n",
      "  MAE: 0.5320582381706132\n",
      "  R2: 0.28819314322922607\n",
      "Elasticnet model (alpha=0.100000, l1_ratio=0.400000):\n",
      "  RMSE: 0.6717754521606529\n",
      "  MAE: 0.5360696068437336\n",
      "  R2: 0.2772256126115721\n"
     ]
    }
   ],
   "source": [
    "#Model Parameters\n",
    "alphas = [0.1,0.2,0.3,0.4]\n",
    "l1_ratios = [0.1,0.2,0.3,0.4]\n",
    "\n",
    "for alpha_val in alphas:\n",
    "    for l1_val in l1_ratios:\n",
    "        with mlflow.start_run():\n",
    "            lr = ElasticNet(alpha=alpha_val, l1_ratio=l1_val, random_state=42)\n",
    "            lr.fit(train_x, train_y)\n",
    "\n",
    "            predicted_qualities = lr.predict(test_x)\n",
    "\n",
    "            # Evaluation Metrics\n",
    "            rmse = np.sqrt(mean_squared_error(test_y, predicted_qualities))\n",
    "            mae = mean_absolute_error(test_y, predicted_qualities)\n",
    "            r2 = r2_score(test_y, predicted_qualities)\n",
    "\n",
    "            print(\"Elasticnet model (alpha=%f, l1_ratio=%f):\" % (alpha_val, l1_val))\n",
    "            print(\"  RMSE: %s\" % rmse)\n",
    "            print(\"  MAE: %s\" % mae)\n",
    "            print(\"  R2: %s\" % r2)\n",
    "\n",
    "            mlflow.log_param(\"alpha\", alpha_val)\n",
    "            mlflow.log_param(\"l1_ratio\", l1_val)\n",
    "            mlflow.log_metric(\"rmse\", rmse)\n",
    "            mlflow.log_metric(\"r2\", r2)\n",
    "            mlflow.log_metric(\"mae\", mae)\n",
    "\n",
    "            mlflow.sklearn.log_model(lr, \"model\")"
   ]
  },
  {
   "cell_type": "markdown",
   "metadata": {},
   "source": [
    "Now, when you reload the ML Flow UI, you'll see all these runs logged with all the relevant values recorded. "
   ]
  },
  {
   "cell_type": "code",
   "execution_count": null,
   "metadata": {},
   "outputs": [],
   "source": []
  }
 ],
 "metadata": {
  "kernelspec": {
   "display_name": "Python 3 (ipykernel)",
   "language": "python",
   "name": "python3"
  },
  "language_info": {
   "codemirror_mode": {
    "name": "ipython",
    "version": 3
   },
   "file_extension": ".py",
   "mimetype": "text/x-python",
   "name": "python",
   "nbconvert_exporter": "python",
   "pygments_lexer": "ipython3",
   "version": "3.8.8"
  }
 },
 "nbformat": 4,
 "nbformat_minor": 4
}
